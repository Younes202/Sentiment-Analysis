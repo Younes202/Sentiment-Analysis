{
 "cells": [
  {
   "cell_type": "markdown",
   "id": "74262309-7f70-40b3-a87e-b2fe98dcdf96",
   "metadata": {},
   "source": [
    "# Fine-tuning DistilBERT for Sentiment Analysis and Classification 🧠💬"
   ]
  },
  {
   "cell_type": "raw",
   "id": "bddccc4b-3bc3-4b9f-872f-26cc671012c7",
   "metadata": {},
   "source": [
    "This project fine-tunes the distilbert-base-uncased model for sentiment analysis, adapting it to classify text into positive, negative, or neutral sentiments. By leveraging pre-trained models, it enables the interpretation of emotions and opinions in text, with applications in areas like social media and customer feedback analysis."
   ]
  },
  {
   "cell_type": "markdown",
   "id": "fbbdfe65-4525-45e4-bc7a-65ec293711d1",
   "metadata": {},
   "source": [
    "## Import libraries"
   ]
  },
  {
   "cell_type": "code",
   "execution_count": null,
   "id": "249523a4-4f2b-4c45-a9ee-808f71c0b155",
   "metadata": {},
   "outputs": [],
   "source": [
    "import pandas as pd\n",
    "import matplotlib.pyplot as plt\n",
    "import seaborn as sns\n",
    "import random\n",
    "from sklearn.preprocessing import LabelEncoder\n",
    "from sklearn.model_selection import train_test_split\n",
    "from transformers import AutoTokenizer\n",
    "from torch.utils.data import Dataset\n",
    "import evaluate\n",
    "from transformers import AutoModelForSequenceClassification, TrainingArguments, Trainer\n",
    "import torch\n",
    "from transformers import pipeline\n"
   ]
  }
 ],
 "metadata": {
  "kernelspec": {
   "display_name": "Python 3 (ipykernel)",
   "language": "python",
   "name": "python3"
  },
  "language_info": {
   "codemirror_mode": {
    "name": "ipython",
    "version": 3
   },
   "file_extension": ".py",
   "mimetype": "text/x-python",
   "name": "python",
   "nbconvert_exporter": "python",
   "pygments_lexer": "ipython3",
   "version": "3.13.1"
  }
 },
 "nbformat": 4,
 "nbformat_minor": 5
}
